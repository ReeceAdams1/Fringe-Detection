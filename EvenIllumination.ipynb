{
 "cells": [
  {
   "cell_type": "markdown",
   "id": "c6043eb9",
   "metadata": {},
   "source": [
    "\n",
    "# Fringe Extraction on Uneven Illumination — Interactive Notebook\n",
    "\n",
    "This notebook provides Shading correction → CLAHE → Local threshold (Sauvola) for images with uneven illumination (like interferometry fringes):\n",
    "\n",
    "> The notebook expects your image at `ReferenceCropped.png`. You can replace that path with your own.\n"
   ]
  },
  {
   "cell_type": "code",
   "execution_count": 2,
   "id": "ebe1ca99",
   "metadata": {},
   "outputs": [],
   "source": [
    "\n",
    "# If running locally, ensure these are installed:\n",
    "# !pip install opencv-python-headless scikit-image ipywidgets matplotlib numpy\n",
    "import matplotlib\n",
    "matplotlib.use(\"TkAgg\")\n",
    "import os, math, numpy as np, cv2\n",
    "import matplotlib.pyplot as plt\n",
    "from IPython.display import display, HTML\n",
    "import ipywidgets as widgets\n",
    "\n",
    "from skimage import img_as_ubyte\n",
    "from skimage.exposure import rescale_intensity\n",
    "from skimage.filters import threshold_sauvola\n",
    "from skimage.filters.rank import otsu\n",
    "from skimage.morphology import disk, opening\n",
    "\n",
    "plt.rcParams['figure.dpi'] = 130\n",
    "\n",
    "# Convenience: safe imread\n",
    "def read_gray(path):\n",
    "    img = cv2.imread(path, cv2.IMREAD_GRAYSCALE)\n",
    "    if img is None:\n",
    "        raise FileNotFoundError(f\"Could not read image at: {path}\")\n",
    "    return img\n"
   ]
  },
  {
   "cell_type": "code",
   "execution_count": 3,
   "id": "81538dfc",
   "metadata": {
    "scrolled": true
   },
   "outputs": [
    {
     "name": "stdout",
     "output_type": "stream",
     "text": [
      "Loaded image ShotCropped.png  shape=(650, 1231), dtype=uint8\n"
     ]
    }
   ],
   "source": [
    "\n",
    "# --- Load your image here ---\n",
    "IMG_PATH = \"ShotCropped.png\"  # change if needed\n",
    "img = read_gray(IMG_PATH)\n",
    "h, w = img.shape[:2]\n",
    "print(f\"Loaded image {IMG_PATH}  shape={img.shape}, dtype={img.dtype}\")\n",
    "plt.imshow(img, cmap='gray')\n",
    "plt.axis('off')\n",
    "plt.title('Original')\n",
    "plt.show()\n"
   ]
  },
  {
   "cell_type": "code",
   "execution_count": 4,
   "id": "2e3b9ca9",
   "metadata": {},
   "outputs": [],
   "source": [
    "\n",
    "def show_triptych(a, b, c, titles=('Stage 1','Stage 2','Stage 3'), cmap='gray'):\n",
    "    fig, axs = plt.subplots(1, 3, figsize=(12,4))\n",
    "    for ax, im, t in zip(axs, [a, b, c], titles):\n",
    "        ax.imshow(im, cmap=cmap)\n",
    "        ax.set_title(t)\n",
    "        ax.axis('off')\n",
    "    plt.tight_layout()\n",
    "    plt.show()\n"
   ]
  },
  {
   "cell_type": "code",
   "execution_count": 7,
   "id": "3a337cca",
   "metadata": {
    "scrolled": true
   },
   "outputs": [
    {
     "data": {
      "application/vnd.jupyter.widget-view+json": {
       "model_id": "6ad51b18115c4064a07818dbb2ada5ba",
       "version_major": 2,
       "version_minor": 0
      },
      "text/plain": [
       "VBox(children=(FloatSlider(value=10.0, description='Blur σ', max=10.0), FloatSlider(value=2.5, description='CL…"
      ]
     },
     "metadata": {},
     "output_type": "display_data"
    }
   ],
   "source": [
    "# --- set backend BEFORE importing pyplot ---\n",
    "import matplotlib\n",
    "matplotlib.use(\"TkAgg\")  # opens real OS window (requires Tk installed, on Windows it's included)\n",
    "\n",
    "import matplotlib.pyplot as plt\n",
    "import ipywidgets as widgets\n",
    "from IPython.display import display\n",
    "import numpy as np\n",
    "import cv2\n",
    "from skimage.filters import threshold_sauvola\n",
    "\n",
    "# --- your existing helpers (unchanged) ---\n",
    "def show_triptych(a, b, c, titles=('Stage 1','Stage 2','Stage 3'), cmap='gray'):\n",
    "    fig, axs = plt.subplots(1, 3, figsize=(12,4))\n",
    "    for ax, im, t in zip(axs, [a, b, c], titles):\n",
    "        ax.imshow(im, cmap=cmap)\n",
    "        ax.set_title(t); ax.axis('off')\n",
    "    plt.tight_layout(); plt.show()\n",
    "\n",
    "def pipeline_shading_sauvola(img, sigma=35.0, clip=2.5, tile=8, win=31, k=0.20, post_open=1):\n",
    "    bg = cv2.GaussianBlur(img, ksize=(0,0), sigmaX=sigma, sigmaY=sigma)\n",
    "    flat = cv2.divide(img, bg, scale=255)\n",
    "    tile = max(2, int(tile))\n",
    "    clahe = cv2.createCLAHE(clipLimit=float(clip), tileGridSize=(tile, tile))\n",
    "    enh = clahe.apply(flat)\n",
    "    win = int(win) if int(win)%2==1 else int(win)+1\n",
    "    thv = threshold_sauvola(enh, window_size=win, k=float(k))\n",
    "    binary = (enh > thv).astype(np.uint8) * 255\n",
    "    if post_open > 0:\n",
    "        ksz = max(1, int(post_open))\n",
    "        binary = cv2.morphologyEx(binary, cv2.MORPH_OPEN, np.ones((ksz,ksz), np.uint8))\n",
    "    return flat, enh, binary\n",
    "\n",
    "# --- Matplotlib pop-out for ONLY the binary ---\n",
    "_fig = None\n",
    "_ax = None\n",
    "_im = None\n",
    "\n",
    "def show_binary_popout_mpl(binary, win_title=\"Sauvola Binary\"):\n",
    "    global _fig, _ax, _im\n",
    "    b = binary.astype(np.uint8)\n",
    "    if _fig is None:\n",
    "        _fig, _ax = plt.subplots()\n",
    "        try:\n",
    "            _fig.canvas.manager.set_window_title(win_title)\n",
    "        except Exception:\n",
    "            pass\n",
    "        _im = _ax.imshow(b, cmap='gray', vmin=0, vmax=255)\n",
    "        _ax.axis('off')\n",
    "        plt.show(block=False)      # non-blocking OS window\n",
    "        _fig.canvas.draw_idle()\n",
    "        _fig.canvas.flush_events()\n",
    "    else:\n",
    "        _im.set_data(b)\n",
    "        _fig.canvas.draw_idle()\n",
    "        _fig.canvas.flush_events()\n",
    "\n",
    "def close_binary_popout_mpl():\n",
    "    global _fig, _ax, _im\n",
    "    if _fig is not None:\n",
    "        plt.close(_fig)\n",
    "        _fig = _ax = _im = None\n",
    "\n",
    "# --- Sliders UI that drives the pop-out window ---\n",
    "def ui_binary_popout(img):\n",
    "    sigma     = widgets.FloatSlider(value=50.0, min=0.0,  max=10.0, step=0.1,  description='Blur σ')\n",
    "    clip      = widgets.FloatSlider(value=2.5,  min=1.0,  max=8.0,  step=0.1,  description='CLAHE clip')\n",
    "    tile      = widgets.IntSlider(  value=8,    min=4,    max=32,   step=1,    description='CLAHE tile')\n",
    "    win       = widgets.IntSlider(  value=31,   min=9,    max=101,  step=2,    description='Sauvola win')\n",
    "    k         = widgets.FloatSlider(value=0.20, min=0.05, max=0.40, step=0.01, description='Sauvola k')\n",
    "    post_open = widgets.IntSlider(  value=1,    min=0,    max=5,    step=1,    description='Post open')\n",
    "    close_btn = widgets.Button(description=\"Close pop-out\")\n",
    "\n",
    "    def on_change(_=None):\n",
    "        _, _, binary = pipeline_shading_sauvola(\n",
    "            img,\n",
    "            sigma=sigma.value, clip=clip.value, tile=tile.value,\n",
    "            win=win.value, k=k.value, post_open=post_open.value\n",
    "        )\n",
    "        show_binary_popout_mpl(binary)\n",
    "\n",
    "    def on_close(_):\n",
    "        close_binary_popout_mpl()\n",
    "\n",
    "    for w in (sigma, clip, tile, win, k, post_open):\n",
    "        w.observe(on_change, names='value')\n",
    "    close_btn.on_click(on_close)\n",
    "\n",
    "    controls = widgets.VBox([sigma, clip, tile, win, k, post_open, close_btn])\n",
    "    display(controls)\n",
    "    on_change()  # initial draw\n",
    "\n",
    "# --- Use it ---\n",
    "ui_binary_popout(img)\n"
   ]
  },
  {
   "cell_type": "code",
   "execution_count": null,
   "id": "23a476b4-1fef-43f3-a654-64e78d6694c1",
   "metadata": {},
   "outputs": [],
   "source": []
  }
 ],
 "metadata": {
  "kernelspec": {
   "display_name": "Python 3 (ipykernel)",
   "language": "python",
   "name": "python3"
  },
  "language_info": {
   "codemirror_mode": {
    "name": "ipython",
    "version": 3
   },
   "file_extension": ".py",
   "mimetype": "text/x-python",
   "name": "python",
   "nbconvert_exporter": "python",
   "pygments_lexer": "ipython3",
   "version": "3.13.3"
  }
 },
 "nbformat": 4,
 "nbformat_minor": 5
}
